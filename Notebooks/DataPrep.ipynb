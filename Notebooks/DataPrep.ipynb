{
 "cells": [
  {
   "cell_type": "code",
   "execution_count": 131,
   "outputs": [],
   "source": [
    "import pandas as pd\n",
    "import os\n",
    "\n",
    "# pd.set_option(\"display.max_columns\", None)\n",
    "# pd.set_option('display.max_rows', None)"
   ],
   "metadata": {
    "collapsed": false
   }
  },
  {
   "cell_type": "code",
   "execution_count": 132,
   "outputs": [],
   "source": [
    "train_path = '/home/student/Lab1_new_last/data/train'\n",
    "test_path = '/home/student/Lab1_new_last/data/test'"
   ],
   "metadata": {
    "collapsed": false
   }
  },
  {
   "cell_type": "code",
   "execution_count": 133,
   "outputs": [],
   "source": [
    "def read_data(path, fille_name):\n",
    "    dfs = []\n",
    "    for filename in os.listdir(path):\n",
    "        if filename.endswith(\".psv\"):\n",
    "            file_path = os.path.join(path, filename)\n",
    "            df = pd.read_csv(file_path, sep='|')\n",
    "            df['SepsisPatient'] = 0\n",
    "            # Filter out rows after the row where SepsisLabel is 1\n",
    "            if df['SepsisLabel'].eq(1).any():\n",
    "                index = df.index[df['SepsisLabel'] == 1].min()\n",
    "                df = df.iloc[:index + 1, :]\n",
    "                df['SepsisPatient'] = 1\n",
    "            # Add the filename/Patient name to the dataframe\n",
    "            df['filename'] = filename\n",
    "\n",
    "            dfs.append(df)\n",
    "    df = pd.concat(dfs, axis=0)\n",
    "    df.to_csv(f'/home/student/Lab1_new_last/data/{fille_name}.csv', index=False)"
   ],
   "metadata": {
    "collapsed": false
   }
  },
  {
   "cell_type": "code",
   "execution_count": 134,
   "outputs": [],
   "source": [
    "def data_prep(data):\n",
    "    #  add a new column for each feature that indicates if the value is missing\n",
    "    for col in data.columns:\n",
    "        data[col + '_missing'] = data[col].isna().astype(int)\n",
    "    return data"
   ],
   "metadata": {
    "collapsed": false
   }
  },
  {
   "cell_type": "code",
   "execution_count": 135,
   "outputs": [],
   "source": [
    "def data_prep_2(data, agg_data):\n",
    "    for col in data.columns.drop('filename'):\n",
    "        missing_percentage_per_patient = data.groupby('filename')[col].apply(lambda x: (x.isnull().sum() / len(x)) * 100).reset_index()\n",
    "        # print(missing_percentage_per_patient['filename'])\n",
    "        agg_data=pd.merge(agg_data, missing_percentage_per_patient, on='filename')\n",
    "\n",
    "        # agg_data[col + '_missing'] =missing_percentage_per_patient[1].astype(int)\n",
    "    return agg_data"
   ],
   "metadata": {
    "collapsed": false
   }
  },
  {
   "cell_type": "code",
   "execution_count": 136,
   "outputs": [],
   "source": [
    "train_data = pd.read_csv(f'/Users/ofrihefetz/PycharmProjects/lab2_hw1/data/train_df.csv')\n",
    "# read_data(train_path, 'train_df')\n",
    "\n",
    "test_data = pd.read_csv(f'/Users/ofrihefetz/PycharmProjects/lab2_hw1/data/test_df.csv')\n",
    "# read_data(test_path, 'test_df')\n"
   ],
   "metadata": {
    "collapsed": false
   }
  }
 ],
 "metadata": {
  "kernelspec": {
   "display_name": "Python 3",
   "language": "python",
   "name": "python3"
  },
  "language_info": {
   "codemirror_mode": {
    "name": "ipython",
    "version": 2
   },
   "file_extension": ".py",
   "mimetype": "text/x-python",
   "name": "python",
   "nbconvert_exporter": "python",
   "pygments_lexer": "ipython2",
   "version": "2.7.6"
  }
 },
 "nbformat": 4,
 "nbformat_minor": 0
}
