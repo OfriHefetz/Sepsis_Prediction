{
 "cells": [
  {
   "cell_type": "markdown",
   "source": [
    "# Early Prediction of Sepsis from Clinical Data"
   ],
   "metadata": {
    "collapsed": false
   }
  },
  {
   "cell_type": "code",
   "execution_count": 26,
   "outputs": [],
   "source": [
    "import pandas as pd\n",
    "from sklearn.metrics import f1_score, accuracy_score, roc_curve, precision_score, recall_score, accuracy_score, \\\n",
    "    confusion_matrix\n",
    "from sklearn.linear_model import LogisticRegression\n",
    "import pickle"
   ],
   "metadata": {
    "collapsed": false
   }
  },
  {
   "cell_type": "markdown",
   "source": [
    "## Load Data\n"
   ],
   "metadata": {
    "collapsed": false
   }
  },
  {
   "cell_type": "code",
   "execution_count": 2,
   "outputs": [],
   "source": [
    "train_data = pd.read_csv(f'/Users/ofrihefetz/PycharmProjects/lab2_hw1/data/train_df.csv')\n",
    "test_data = pd.read_csv('/Users/ofrihefetz/PycharmProjects/lab2_hw1/data/test_df.csv')"
   ],
   "metadata": {
    "collapsed": false
   }
  },
  {
   "cell_type": "markdown",
   "source": [
    "# Data Preperations\n",
    "In this part we will prepare the different forms of the data set, which we will examine over different models."
   ],
   "metadata": {
    "collapsed": false
   }
  },
  {
   "cell_type": "code",
   "execution_count": 3,
   "outputs": [],
   "source": [
    "def data_prep(data):\n",
    "    #  add a new column for each feature that indicates if the value is missing\n",
    "    for col in data.columns:\n",
    "        data[col + '_missing'] = data[col].isna().astype(int)\n",
    "    return data"
   ],
   "metadata": {
    "collapsed": false
   }
  },
  {
   "cell_type": "markdown",
   "source": [
    "##  Train data sets\n"
   ],
   "metadata": {
    "collapsed": false
   }
  },
  {
   "cell_type": "code",
   "execution_count": 4,
   "outputs": [],
   "source": [
    "col_to_drop_new = ['SepsisPatient', 'SepsisPatient_missing', 'SepsisLabel', 'SepsisLabel_missing',\n",
    "                   'filename_missing', 'filename']\n",
    "col_to_drop = ['SepsisPatient', 'SepsisLabel', 'filename']\n",
    "# ------------------------------------------------------------------------------------#\n",
    "# original data no manipulation\n",
    "train_data_x = train_data.drop(col_to_drop, axis=1)\n",
    "train_data_y = train_data['SepsisLabel']\n",
    "# # ------------------------------------------------------------------------------------#\n",
    "# original data with additional cols indicating for missing values per feature\n",
    "train_data_new = data_prep(train_data)\n",
    "train_data_new_x = train_data_new.drop(col_to_drop_new, axis=1)\n",
    "train_data_new_y = train_data_new['SepsisPatient']\n",
    "# # ------------------------------------------------------------------------------------#\n",
    "# original data aggregated by the patient id (using median values)\n",
    "train_data_agg_x = train_data.groupby(by=['filename']).median()\n",
    "train_data_agg_x = train_data_agg_x.drop(['SepsisPatient', 'SepsisLabel'], axis=1)\n",
    "train_data_agg_y = train_data.groupby(by=['filename']).max()['SepsisPatient']\n",
    "# # ------------------------------------------------------------------------------------#\n",
    "# # data with additional cols aggregated  by the patient id (using median values)\n",
    "train_data_new_agg_x = train_data_new.groupby(by=['filename']).median()\n",
    "train_data_new_agg_x = train_data_new_agg_x.drop(\n",
    "    ['SepsisPatient', 'SepsisPatient_missing', 'SepsisLabel', 'SepsisLabel_missing', 'filename_missing'], axis=1)\n",
    "train_data_new_agg_y = train_data_new.groupby(by=['filename']).max()['SepsisPatient']"
   ],
   "metadata": {
    "collapsed": false
   }
  },
  {
   "cell_type": "markdown",
   "source": [
    "## Test data sets"
   ],
   "metadata": {
    "collapsed": false
   }
  },
  {
   "cell_type": "code",
   "execution_count": 5,
   "outputs": [],
   "source": [
    "# original data no manipulation\n",
    "test_data_x = test_data.drop(col_to_drop, axis=1)\n",
    "test_data_y = test_data['SepsisLabel']\n",
    "# # ------------------------------------------------------------------------------------#\n",
    "# original data with additional cols indicating for missing values per feature\n",
    "test_data_new = data_prep(test_data)\n",
    "test_data_new_x = test_data_new.drop(col_to_drop_new, axis=1)\n",
    "test_data_new_y = test_data_new['SepsisPatient']\n",
    "# # ------------------------------------------------------------------------------------#\n",
    "# original data aggregated by the patient id (using median values)\n",
    "test_data_agg_x = test_data.groupby(by=['filename']).median()\n",
    "test_data_agg_x = test_data_agg_x.drop(['SepsisPatient', 'SepsisLabel'], axis=1)\n",
    "test_data_agg_y = test_data.groupby(by=['filename']).max()['SepsisPatient']\n",
    "# # ------------------------------------------------------------------------------------#\n",
    "# data with additional cols aggregated  by the patient id (using median values)\n",
    "test_data_new_agg_x = test_data_new.groupby(by=['filename']).median()\n",
    "test_data_new_agg_x = test_data_new_agg_x.drop(\n",
    "    ['SepsisPatient', 'SepsisPatient_missing', 'SepsisLabel', 'SepsisLabel_missing', 'filename_missing'], axis=1)\n",
    "test_data_new_agg_y = test_data_new.groupby(by=['filename']).max()['SepsisPatient']"
   ],
   "metadata": {
    "collapsed": false
   }
  },
  {
   "cell_type": "markdown",
   "source": [
    "# Methods\n",
    "1. Logistic_Regression\n",
    "2. Gaussian_Naive_Bayes_Classifier\n",
    "3. XGBoost\n",
    "4. DecisionTree"
   ],
   "metadata": {
    "collapsed": false
   }
  },
  {
   "cell_type": "code",
   "execution_count": 1,
   "outputs": [],
   "source": [
    "def evaluation(y_test, predicted):\n",
    "    accuracy_score(y_test, predicted)\n",
    "    print(f\"Accuracy is {accuracy_score(y_test, predicted)}\")\n",
    "    print(f\"F1 score is {f1_score(y_test, predicted)}\")\n",
    "    print(\"Confusion Matrix:\")\n",
    "    print(confusion_matrix(y_test, predicted))"
   ],
   "metadata": {
    "collapsed": false
   }
  },
  {
   "cell_type": "markdown",
   "source": [
    "## Logistic Regression\n"
   ],
   "metadata": {
    "collapsed": false
   }
  },
  {
   "cell_type": "code",
   "execution_count": 21,
   "outputs": [],
   "source": [
    "def Logistic_Regression(X_train, y_train, X_test, y_test):\n",
    "    X_train = X_train.fillna(-1)\n",
    "    X_test = X_test.fillna(-1)\n",
    "    y_train = y_train.fillna(0)\n",
    "    clf = LogisticRegression(random_state=0, max_iter=100000)\n",
    "    clf.fit(X_train, y_train)\n",
    "    predicted = clf.predict(X_test)\n",
    "    evaluation(y_test, predicted)"
   ],
   "metadata": {
    "collapsed": false
   }
  },
  {
   "cell_type": "code",
   "execution_count": 22,
   "outputs": [
    {
     "name": "stdout",
     "output_type": "stream",
     "text": [
      "Accuracy is 0.9150895423682817\n",
      "F1 score is 0.34464667005592275\n",
      "Confusion Matrix:\n",
      "[[338840   3729]\n",
      " [ 28498   8474]]\n"
     ]
    }
   ],
   "source": [
    "Logistic_Regression(train_data_x,train_data_y,test_data_x,test_data_y)"
   ],
   "metadata": {
    "collapsed": false
   }
  },
  {
   "cell_type": "code",
   "execution_count": 23,
   "outputs": [
    {
     "name": "stdout",
     "output_type": "stream",
     "text": [
      "Accuracy is 0.9153872704134731\n",
      "F1 score is 0.3516514576435436\n",
      "Confusion Matrix:\n",
      "[[338718   3851]\n",
      " [ 28263   8709]]\n"
     ]
    }
   ],
   "source": [
    "Logistic_Regression(train_data_new_x,train_data_new_y,test_data_new_x,test_data_new_y)"
   ],
   "metadata": {
    "collapsed": false
   }
  },
  {
   "cell_type": "code",
   "execution_count": 24,
   "outputs": [
    {
     "name": "stdout",
     "output_type": "stream",
     "text": [
      "Accuracy is 0.9402\n",
      "F1 score is 0.41025641025641024\n",
      "Confusion Matrix:\n",
      "[[9194   65]\n",
      " [ 533  208]]\n"
     ]
    },
    {
     "name": "stderr",
     "output_type": "stream",
     "text": [
      "/Users/ofrihefetz/anaconda3/envs/lab2_hw1/lib/python3.10/site-packages/sklearn/linear_model/_logistic.py:458: ConvergenceWarning: lbfgs failed to converge (status=1):\n",
      "STOP: TOTAL NO. of f AND g EVALUATIONS EXCEEDS LIMIT.\n",
      "\n",
      "Increase the number of iterations (max_iter) or scale the data as shown in:\n",
      "    https://scikit-learn.org/stable/modules/preprocessing.html\n",
      "Please also refer to the documentation for alternative solver options:\n",
      "    https://scikit-learn.org/stable/modules/linear_model.html#logistic-regression\n",
      "  n_iter_i = _check_optimize_result(\n"
     ]
    }
   ],
   "source": [
    "Logistic_Regression(train_data_agg_x,train_data_agg_y,test_data_agg_x,test_data_agg_y)"
   ],
   "metadata": {
    "collapsed": false
   }
  },
  {
   "cell_type": "code",
   "execution_count": 25,
   "outputs": [
    {
     "name": "stdout",
     "output_type": "stream",
     "text": [
      "Accuracy is 0.9402\n",
      "F1 score is 0.41025641025641024\n",
      "Confusion Matrix:\n",
      "[[9194   65]\n",
      " [ 533  208]]\n"
     ]
    },
    {
     "name": "stderr",
     "output_type": "stream",
     "text": [
      "/Users/ofrihefetz/anaconda3/envs/lab2_hw1/lib/python3.10/site-packages/sklearn/linear_model/_logistic.py:458: ConvergenceWarning: lbfgs failed to converge (status=1):\n",
      "STOP: TOTAL NO. of f AND g EVALUATIONS EXCEEDS LIMIT.\n",
      "\n",
      "Increase the number of iterations (max_iter) or scale the data as shown in:\n",
      "    https://scikit-learn.org/stable/modules/preprocessing.html\n",
      "Please also refer to the documentation for alternative solver options:\n",
      "    https://scikit-learn.org/stable/modules/linear_model.html#logistic-regression\n",
      "  n_iter_i = _check_optimize_result(\n"
     ]
    }
   ],
   "source": [
    "Logistic_Regression(train_data_new_agg_x,train_data_new_agg_y,test_data_new_agg_x,test_data_new_agg_y)"
   ],
   "metadata": {
    "collapsed": false
   }
  },
  {
   "cell_type": "code",
   "execution_count": null,
   "outputs": [],
   "source": [],
   "metadata": {
    "collapsed": false
   }
  }
 ],
 "metadata": {
  "kernelspec": {
   "display_name": "Python 3",
   "language": "python",
   "name": "python3"
  },
  "language_info": {
   "codemirror_mode": {
    "name": "ipython",
    "version": 2
   },
   "file_extension": ".py",
   "mimetype": "text/x-python",
   "name": "python",
   "nbconvert_exporter": "python",
   "pygments_lexer": "ipython2",
   "version": "2.7.6"
  }
 },
 "nbformat": 4,
 "nbformat_minor": 0
}
